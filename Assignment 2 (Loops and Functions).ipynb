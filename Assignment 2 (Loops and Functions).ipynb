{
 "cells": [
  {
   "cell_type": "code",
   "execution_count": 1,
   "id": "c05b7225",
   "metadata": {},
   "outputs": [],
   "source": [
    "# Q1. Which keyword is used to create a function? Create a function to return a list of odd numbers in the\n",
    "#     range of 1 to 25.\n",
    "\n",
    "# Ans. Def keyword is used to create a function.\n",
    "\n",
    "def odd_numbers():\n",
    "    lis = []\n",
    "    for i in (range(1,26)):\n",
    "        if i % 2 != 0:\n",
    "            lis.append(i)\n",
    "            \n",
    "    return lis"
   ]
  },
  {
   "cell_type": "code",
   "execution_count": 2,
   "id": "a6832e9f",
   "metadata": {},
   "outputs": [
    {
     "data": {
      "text/plain": [
       "[1, 3, 5, 7, 9, 11, 13, 15, 17, 19, 21, 23, 25]"
      ]
     },
     "execution_count": 2,
     "metadata": {},
     "output_type": "execute_result"
    }
   ],
   "source": [
    "odd_numbers()"
   ]
  },
  {
   "cell_type": "code",
   "execution_count": 3,
   "id": "c3a8282a",
   "metadata": {},
   "outputs": [],
   "source": [
    "# Q2. Why *args and **kwargs is used in some functions? Create a function each for *args and **kwargs\n",
    "#     to demonstrate their use.\n",
    "\n",
    "# Ans. i) *args are used to take n number of arguments while calling the function.\n",
    "# ex:\n",
    "def test1(*args, a):\n",
    "    return args, a"
   ]
  },
  {
   "cell_type": "code",
   "execution_count": 4,
   "id": "88d79ec4",
   "metadata": {},
   "outputs": [
    {
     "data": {
      "text/plain": [
       "(('akshay', 22, 'M', 'Data Science'), 'Harry')"
      ]
     },
     "execution_count": 4,
     "metadata": {},
     "output_type": "execute_result"
    }
   ],
   "source": [
    "test1('akshay', 22, 'M', \"Data Science\", a=\"Harry\")"
   ]
  },
  {
   "cell_type": "code",
   "execution_count": 5,
   "id": "4bcca6a0",
   "metadata": {},
   "outputs": [],
   "source": [
    "# ii) **kwargs is used in dictionary dataType in Which we can take n number of arguments while calling the function\n",
    "# ex:\n",
    "def test2(**kwargs):\n",
    "    return kwargs"
   ]
  },
  {
   "cell_type": "code",
   "execution_count": 6,
   "id": "b81cb136",
   "metadata": {},
   "outputs": [
    {
     "data": {
      "text/plain": [
       "{'akshya': 'sharma', 'age': 22, 'Gender': 'M'}"
      ]
     },
     "execution_count": 6,
     "metadata": {},
     "output_type": "execute_result"
    }
   ],
   "source": [
    "test2(akshya = \"sharma\", age = 22, Gender = \"M\")"
   ]
  },
  {
   "cell_type": "code",
   "execution_count": 7,
   "id": "6efe585e",
   "metadata": {},
   "outputs": [
    {
     "name": "stdout",
     "output_type": "stream",
     "text": [
      "2\n",
      "4\n",
      "6\n",
      "8\n",
      "10\n"
     ]
    }
   ],
   "source": [
    "# Q3. What is an iterator in python? Name the method used to initialise the iterator object and the method\n",
    "#     used for iteration. Use these methods to print the first five elements of the given list [2, 4, 6, 8, 10, 12, 14,\n",
    "#     16, 18, 20].\n",
    "\n",
    "# Ans. An iterator is an object that contains a countable number of values. The iter() method is used to initialize the\n",
    "# iterator object. Iteration is accomplished through the usage of the next() method. Python iterator implements the iterator \n",
    "# protocol, which includes two special methods: __iter__() and __next__().\n",
    "\n",
    "# Ex:\n",
    "list = [2, 4, 6, 8, 10, 12, 14, 16, 18, 20]\n",
    "list1 = iter(list)\n",
    "\n",
    "for i in range(5):\n",
    "    print(next(list1))\n"
   ]
  },
  {
   "cell_type": "code",
   "execution_count": 57,
   "id": "ad4ff778",
   "metadata": {},
   "outputs": [],
   "source": [
    "# Q4. What is a generator function in python? Why yield keyword is used? Give an example of a generator\n",
    "#     function.\n",
    "\n",
    "# Ans. A generator function in Python is a special type of function that returns an iterator, which we can iterate over \n",
    "#      (one value at a time). Instead of returning a single value using the return statement, a generator function yields \n",
    "#      multiple values one at a time using the yield keyword.\n",
    "\n",
    "#      When a generator function is called, it does not execute its code immediately. Instead, it returns a generator object \n",
    "#      that can be iterated over. Each time you iterate over the generator (e.g., using a for loop or by calling next()), the\n",
    "#      function resumes where it left off (after the last yield statement) and continues executing until it hits the next yield\n",
    "#      statement.\n",
    "\n",
    "# Yield is used to create generator function.\n",
    "# Ex.\n",
    "def test_gen(n):\n",
    "    a = 0\n",
    "    b = 1\n",
    "    for i in range(n):\n",
    "        yield a \n",
    "        a = b\n",
    "        b = a+b"
   ]
  },
  {
   "cell_type": "code",
   "execution_count": 58,
   "id": "706037c2",
   "metadata": {},
   "outputs": [
    {
     "name": "stdout",
     "output_type": "stream",
     "text": [
      "0\n",
      "1\n",
      "2\n",
      "4\n",
      "8\n",
      "16\n",
      "32\n",
      "64\n",
      "128\n",
      "256\n"
     ]
    }
   ],
   "source": [
    "for i in test_gen(10):\n",
    "    print(i)"
   ]
  },
  {
   "cell_type": "code",
   "execution_count": 120,
   "id": "e5c1b89c",
   "metadata": {},
   "outputs": [],
   "source": [
    "# Q5. Create a generator function for prime numbers less than 1000. Use the next() method to print the first 20 prime numbers.\n",
    "\n",
    "# Ans. \n",
    "def primeNum():\n",
    "    for i in range(2,1000):\n",
    "        is_prime = True\n",
    "        for j in range(2, int(i**0.5)+1):\n",
    "            if i%j == 0:\n",
    "                is_prime = False \n",
    "                break\n",
    "        if is_prime:\n",
    "            yield i\n",
    "            \n",
    "        \n",
    "    "
   ]
  },
  {
   "cell_type": "code",
   "execution_count": 121,
   "id": "4aba50bc",
   "metadata": {},
   "outputs": [],
   "source": [
    "pN = primeNum()"
   ]
  },
  {
   "cell_type": "code",
   "execution_count": 122,
   "id": "f1e99f80",
   "metadata": {},
   "outputs": [
    {
     "name": "stdout",
     "output_type": "stream",
     "text": [
      "2 3 5 7 11 13 17 19 23 29 31 37 41 43 47 53 59 61 67 71 "
     ]
    }
   ],
   "source": [
    "for k in range(20):\n",
    "    print((next(pN)),end=\" \")"
   ]
  },
  {
   "cell_type": "code",
   "execution_count": 9,
   "id": "216800b6",
   "metadata": {},
   "outputs": [
    {
     "name": "stdout",
     "output_type": "stream",
     "text": [
      "Enter your number: 10\n",
      "0 1 1 2 3 5 8 13 21 34 "
     ]
    }
   ],
   "source": [
    "# Q6. Write a python program to print the first 10 Fibonacci numbers using a while loop.\n",
    "\n",
    "# Ans.\n",
    "n = int(input(\"Enter your number: \"))\n",
    "a = 0\n",
    "b = 1\n",
    "count = 0\n",
    "while (count < n):\n",
    "    print(a, end = \" \")\n",
    "    c = a+b\n",
    "    a = b\n",
    "    b = c\n",
    "    count += 1"
   ]
  },
  {
   "cell_type": "code",
   "execution_count": 10,
   "id": "746a6c6d",
   "metadata": {},
   "outputs": [
    {
     "data": {
      "text/plain": [
       "['p', 'w', 's', 'k', 'i', 'l', 'l', 's']"
      ]
     },
     "execution_count": 10,
     "metadata": {},
     "output_type": "execute_result"
    }
   ],
   "source": [
    "# Q7. Write a List Comprehension to iterate through the given string: ‘pwskills’. Expected output:\n",
    "#     ['p', 'w', 's', 'k', 'i', 'l', 'l', 's']\n",
    "\n",
    "# Ans.\n",
    "\n",
    "str = \"pwskills\"\n",
    "[i for i in str]"
   ]
  },
  {
   "cell_type": "code",
   "execution_count": 30,
   "id": "25c42a43",
   "metadata": {},
   "outputs": [
    {
     "name": "stdout",
     "output_type": "stream",
     "text": [
      "Enter your Number: 100001\n",
      "Yes your number 100001 Is a Palindrome\n"
     ]
    }
   ],
   "source": [
    "# Q.8 Write a python program to check whether a given number is Palindrome or not using a while loop.\n",
    "\n",
    "# Ans. \n",
    "n = int(input(\"Enter your Number: \"))\n",
    "original_n = n\n",
    "palindrome = 0\n",
    "\n",
    "while (n != 0):\n",
    "    a = n%10\n",
    "    palindrome = palindrome*10 + a\n",
    "    n = n // 10\n",
    "if ( palindrome == original_n ):\n",
    "    print(\"Yes your number\",original_n,\"Is a Palindrome\")\n",
    "else:\n",
    "    print(\"Try again\")\n"
   ]
  },
  {
   "cell_type": "code",
   "execution_count": 40,
   "id": "7a2945c2",
   "metadata": {},
   "outputs": [
    {
     "name": "stdout",
     "output_type": "stream",
     "text": [
      "[1, 3, 5, 7, 9, 11, 13, 15, 17, 19, 21, 23, 25, 27, 29, 31, 33, 35, 37, 39, 41, 43, 45, 47, 49, 51, 53, 55, 57, 59, 61, 63, 65, 67, 69, 71, 73, 75, 77, 79, 81, 83, 85, 87, 89, 91, 93, 95, 97, 99] "
     ]
    }
   ],
   "source": [
    "# Q9. Write a code to print odd numbers from 1 to 100 using list comprehension.\n",
    "\n",
    "# Ans. \n",
    "print([i for i in range(1,101) if i%2 != 0], end = \" \")         # without *\n"
   ]
  },
  {
   "cell_type": "code",
   "execution_count": 39,
   "id": "74ebae62",
   "metadata": {},
   "outputs": [
    {
     "name": "stdout",
     "output_type": "stream",
     "text": [
      "1 3 5 7 9 11 13 15 17 19 21 23 25 27 29 31 33 35 37 39 41 43 45 47 49 51 53 55 57 59 61 63 65 67 69 71 73 75 77 79 81 83 85 87 89 91 93 95 97 99 "
     ]
    }
   ],
   "source": [
    "print(*[i for i in range(1,101) if i%2 != 0], end = \" \")         # with *"
   ]
  },
  {
   "cell_type": "code",
   "execution_count": null,
   "id": "fb613c49",
   "metadata": {},
   "outputs": [],
   "source": []
  }
 ],
 "metadata": {
  "kernelspec": {
   "display_name": "Python 3 (ipykernel)",
   "language": "python",
   "name": "python3"
  },
  "language_info": {
   "codemirror_mode": {
    "name": "ipython",
    "version": 3
   },
   "file_extension": ".py",
   "mimetype": "text/x-python",
   "name": "python",
   "nbconvert_exporter": "python",
   "pygments_lexer": "ipython3",
   "version": "3.10.9"
  }
 },
 "nbformat": 4,
 "nbformat_minor": 5
}
